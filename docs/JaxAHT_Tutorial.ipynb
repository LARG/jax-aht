{
  "cells": [
    {
      "cell_type": "markdown",
      "metadata": {
        "colab_type": "text",
        "id": "view-in-github"
      },
      "source": [
        "<a href=\"https://colab.research.google.com/github/carolinewang01/jax-aht/blob/main/JaxAHT_Tutorial.ipynb\" target=\"_parent\"><img src=\"https://colab.research.google.com/assets/colab-badge.svg\" alt=\"Open In Colab\"/></a>"
      ]
    },
    {
      "cell_type": "markdown",
      "metadata": {
        "id": "BjRnlRuH1654"
      },
      "source": [
        "# Welcome to JaxAHT!\n",
        "\n",
        "*Please open this notebook in Colab. \n",
        "\n",
        "In this tutorial, we will focus on introducing the core workflows for using the library.\n",
        "We will:\n",
        "- Demonstrate how to train teammates and ego agents, separately and as part of a single, unified workflow.\n",
        "- Introduce the set of evaluation teammates and the evaluation framework\n",
        "- Visualize learned policies\n",
        "\n",
        "The project uses [Hydra](https://hydra.cc/) to manage algorithm and environment configurations, and [WandB](https://wandb.ai/) for logging.\n",
        "\n",
        "Although the tutorial does not explicitly describe how to run the open-ended learning algorithms, these algorithm types may be run similarly to the MARL, teammate generation, and ego agent training algorithms.\n",
        "\n",
        "Please see the project README for a full description of the project's design philosophy.\n",
        "Our benchmark uses a multi-agent PPO implementation provided by [JaxMARL](https://github.com/FLAIROx/JaxMARL/tree/main).\n"
      ]
    },
    {
      "cell_type": "markdown",
      "metadata": {
        "id": "R_qy-SX12H5_"
      },
      "source": [
        "# Install dependencies 📚\n",
        "\n",
        " ⚠️ Before beginning the tutorial, ensure you select a GPU or TPU from `Runtime > Change runtime type` ⚠️"
      ]
    },
    {
      "cell_type": "code",
      "execution_count": null,
      "metadata": {
        "colab": {
          "base_uri": "https://localhost:8080/"
        },
        "id": "qJIaqAt40_rg",
        "outputId": "00fcafe5-7c4a-4b4c-cf9c-945f4bc4d2bc"
      },
      "outputs": [],
      "source": [
        "%%shell\n",
        "# clone repo and install packages\n",
        "git clone https://github.com/carolinewang01/jax-aht.git\n",
        "cd jax-aht\n",
        "pip install --upgrade pip\n",
        "pip install -r requirements.txt"
      ]
    },
    {
      "cell_type": "code",
      "execution_count": null,
      "metadata": {
        "colab": {
          "base_uri": "https://localhost:8080/"
        },
        "id": "offDCR2Ba9b5",
        "outputId": "faae1768-4cce-4947-8393-e3fb5823be57"
      },
      "outputs": [],
      "source": [
        "# change current working directory to rotate/ for the rest of this notebook\n",
        "import os\n",
        "os.chdir('jax-aht/')\n",
        "os.getcwd()\n",
        "\n",
        "# verify that the jax installation can find the GPU/TPU\n",
        "import jax\n",
        "jax.devices()"
      ]
    },
    {
      "cell_type": "markdown",
      "metadata": {
        "id": "Oh_dWGjkJDqP"
      },
      "source": [
        "## Part 1.1 Training Teammates\n",
        "\n",
        "\n",
        "In Jax-AHT, teammates may be trained using either MARL algorithms, or teammate generation algorithms. Each algorithm type has its own entry point, located at `marl/run.py` and `teammate_generation/run.py` respectively.\n",
        "For this tutorial, we will train teammates on Level-Based Foraging (LBF) using IPPO.\n",
        "\n",
        "\n",
        "**Viewing Metrics:**    We strongly recommend using WandB's UI to view the logged metrics. You will need a WandB account, and to set the logger to online mode. For the purposes of this tutorial, you can see a preview of the loggged metrics in the console. Note that the maximum return on LBF is 0.5."
      ]
    },
    {
      "cell_type": "code",
      "execution_count": null,
      "metadata": {
        "colab": {
          "base_uri": "https://localhost:8080/"
        },
        "id": "n_y9AyBcUU8v",
        "outputId": "8da3eed5-b723-4b04-9142-2d1b0b70e3ad"
      },
      "outputs": [],
      "source": [
        "%%shell\n",
        "# train teammates on LBF using a MARL algorithm (IPPO w/parameter sharing)\n",
        "PYTHONPATH=$(pwd) python marl/run.py task=lbf algorithm=ippo/lbf logger.mode=offline\n",
        "# train using BRDiv instead. Note that we use the teammate_generation/ entry point instead of the marl/ entry point.\n",
        "# PYTHONPATH=$(pwd) python teammate_generation/run.py task=lbf algorithm=brdiv/lbf logger.mode=offline"
      ]
    },
    {
      "cell_type": "markdown",
      "metadata": {
        "id": "WobTKkl25IlM"
      },
      "source": [
        "## Part 1.2: Training an Ego Agent Against Pretrained Teammate\n",
        "\n",
        "Using the IPPO teammates trained in the last section, here, we will train a PPO ego agent to collaborate with those teammates, using the ego agent training entry point at `ego_agent_training/run.py`.\n",
        "\n",
        "Please take a moment to look over the entry point code, to understand the overall pipeline."
      ]
    },
    {
      "cell_type": "code",
      "execution_count": null,
      "metadata": {
        "colab": {
          "base_uri": "https://localhost:8080/"
        },
        "id": "X_ipixK1w6zB",
        "outputId": "e71c085d-5b42-4eca-d1a8-914b7f57b9dd"
      },
      "outputs": [],
      "source": [
        "! cat ego_agent_training/run.py"
      ]
    },
    {
      "cell_type": "markdown",
      "metadata": {
        "id": "qrsTXAbZw7GV"
      },
      "source": [
        "### 1.2.1: Setting the Partner Config\n",
        "\n",
        "The first step to training an ego agent is to specify what teammates the ego agent should be trained with.\n",
        "The ego agent training code looks for a partner config within the algorithm block of the master config file, located at `rotate/ego_agent_training/configs/base_config_ego.yaml`.\n",
        "\n"
      ]
    },
    {
      "cell_type": "code",
      "execution_count": null,
      "metadata": {
        "colab": {
          "base_uri": "https://localhost:8080/"
        },
        "collapsed": true,
        "id": "BXhx7jjelwMf",
        "outputId": "bcb67145-60d9-4e4f-9876-e90f0fb262b0"
      },
      "outputs": [],
      "source": [
        "! cat ego_agent_training/configs/base_config_ego.yaml"
      ]
    },
    {
      "cell_type": "markdown",
      "metadata": {
        "id": "OzbMSGB4nuW6"
      },
      "source": [
        "For the ppo_ego algorithm, a default partner config is specified within the algorithm-specific config directory, at `rotate/ego_agent_training/configs/algorithm/ppo_ego/_base_.yaml`. This default partner config is automatically imported and merged into the master config. The path (and other partner config values) should be set by the user, either directly within the config or via the command line. We will take the latter approach in this tutorial.\n"
      ]
    },
    {
      "cell_type": "code",
      "execution_count": null,
      "metadata": {
        "colab": {
          "base_uri": "https://localhost:8080/"
        },
        "collapsed": true,
        "id": "CvSFcJTlkv2I",
        "outputId": "e5f1124e-d93a-4396-8eef-ad4e6cab5c8c"
      },
      "outputs": [],
      "source": [
        "! cat ego_agent_training/configs/algorithm/ppo_ego/_base_.yaml"
      ]
    },
    {
      "cell_type": "code",
      "execution_count": null,
      "metadata": {
        "colab": {
          "base_uri": "https://localhost:8080/"
        },
        "id": "kwepJUitpDPF",
        "outputId": "0283ee5b-4795-4836-b5c7-8a54e015c346"
      },
      "outputs": [],
      "source": [
        "# First, let's find the teammate checkpoint directory\n",
        "import glob\n",
        "\n",
        "checkpoint_base_dir = 'results/lbf/ippo/default_label/'\n",
        "checkpoint_dir = sorted(glob.glob(os.path.join(checkpoint_base_dir, '*')))[-1]\n",
        "checkpoint_dir = os.path.join(checkpoint_dir, \"saved_train_run\")\n",
        "assert os.path.exists(checkpoint_dir), \"Error: checkpoint directory not found.\"\n",
        "print(f\"Found checkpoint directory: {checkpoint_dir}\")"
      ]
    },
    {
      "cell_type": "markdown",
      "metadata": {
        "id": "v0FvD7R8xkly"
      },
      "source": [
        "### 1.2.2: Train the ego agent!\n",
        "\n",
        "Now let's train the ego agent, directly specifying the partner path as a command line argument. We reduce the training time to 1 million steps, so that the ego agent trains in a couple minutes. We also turn off the evaluation against the heldout set, which is explained in the next section."
      ]
    },
    {
      "cell_type": "code",
      "execution_count": null,
      "metadata": {
        "colab": {
          "base_uri": "https://localhost:8080/"
        },
        "id": "OelSrHYoj6Hw",
        "outputId": "86f04c19-8839-4728-81b4-702bfd25c8c1"
      },
      "outputs": [],
      "source": [
        "# Now let's train the ego agent, directly specifying the partner path from the command line\n",
        "# total training timesteps is reduced to 1 million steps for this tutorial.\n",
        "! PYTHONPATH=$(pwd) python ego_agent_training/run.py task=lbf algorithm=ppo_ego/lbf algorithm.partner_agent.path={checkpoint_dir} algorithm.TOTAL_TIMESTEPS=1e6 run_heldout_eval=false logger.mode=offline"
      ]
    },
    {
      "cell_type": "markdown",
      "metadata": {
        "id": "R1cmoiPYNnZg"
      },
      "source": [
        "# 2. Evaluation\n",
        "\n",
        "In AHT research, ego agents are often evaluated based on the returns achieved during collaboration with a *heldout set* of evaluation agents---i.e., agents that should not have been seen during training.\n",
        "The JaxAHT benchmark provides a heldout evaluation set for LBF, and the 5 classic Overcooked tasks.\n",
        "The rliable library is used to compute bootstrapped metrics across the heldout set, by treating each heldout agent as a task.\n",
        "In this section of the tutorial, we will introduce the heldout agent config, demonstrate how to download the agents, and visualize them.\n",
        "\n",
        "*Note that the ego agent training entry point evaluate the ego agent against the heldout set by default. We turned this off in the last section, but you simply need to set the `run_heldout_eval` argument to true in order to enable evaluation."
      ]
    },
    {
      "cell_type": "markdown",
      "metadata": {
        "id": "xFs_GRGujaTO"
      },
      "source": [
        " ## 2.1 Download the Heldout Set\n",
        "\n",
        "\n",
        " The heldout evaluation set consists of both agents trained via RL, and manually programmed heuristic agents. The heuristic agents are located under the `agents/lbf/` and `agents/overcooked/` directories, while the following code will download the RL agent checkpoints to an `eval_teammates/` directory.  \n",
        "\n"
      ]
    },
    {
      "cell_type": "code",
      "execution_count": null,
      "metadata": {
        "colab": {
          "base_uri": "https://localhost:8080/"
        },
        "id": "MWxUSdaL2IkU",
        "outputId": "a2b03447-892d-49b0-e368-9283dcfb3e66"
      },
      "outputs": [],
      "source": [
        "# first, let's download the RL agents in the heldout set\n",
        "! python download_eval_data.py"
      ]
    },
    {
      "cell_type": "markdown",
      "metadata": {
        "id": "YmjAWCw91vsy"
      },
      "source": [
        "## 2.2. Heldout Agent Config\n",
        "\n",
        "The evaluation teammate set is specified in the `global_heldout_settings.yaml` file, which is imported by other config files throughout the codebase as needed, to perform the heldout evaluation.\n",
        "\n",
        "Notice that the teammate config format looks similar to the format used to specify the ego agent training teammates! This is because all teammate configs are parsed by functions within the `common/agent_loader_from_config.py` file. Please see the README for more details about the teammate config."
      ]
    },
    {
      "cell_type": "code",
      "execution_count": null,
      "metadata": {
        "colab": {
          "base_uri": "https://localhost:8080/"
        },
        "id": "JygFMV6-1cVR",
        "outputId": "255ee080-53d3-4713-98da-77f543c58a11"
      },
      "outputs": [],
      "source": [
        "! cat evaluation/configs/global_heldout_settings.yaml"
      ]
    },
    {
      "cell_type": "markdown",
      "metadata": {
        "id": "i82rirVnl7-0"
      },
      "source": [
        "## 2.3. Visualizing Agents\n",
        "\n",
        "We provide functions to visualize agents at `evaluation/vis_episodes.py`.\n",
        "Scripts to test the heuristic agents on LBF and Overcooked are also provided at `tests/test_lbf_agents.py` and `tests/test_overcooked_agents.py`."
      ]
    },
    {
      "cell_type": "code",
      "execution_count": 5,
      "metadata": {
        "colab": {
          "base_uri": "https://localhost:8080/",
          "height": 868
        },
        "id": "Q6eVWaHIl_HK",
        "outputId": "5229b31b-3764-4f2f-f1ff-137ed08925ef"
      },
      "outputs": [
        {
          "name": "stdout",
          "output_type": "stream",
          "text": [
            "Initializing environment...\n",
            "Environment initialized\n",
            "Initializing agents...\n",
            "Agents initialized\n",
            "Agent 0: SequentialFruitAgent\n",
            "Agent 1: SequentialFruitAgent\n",
            "\n",
            "Episode 1/1\n",
            "Episode finished. Total states collected: 13\n",
            "Total states in sequence after episode: 13\n",
            "\n",
            "Episode 1 finished:\n",
            "Total steps: 13\n",
            "Mean episode return: 0.50\n",
            "Episode returns per agent:\n",
            " agent_0: 0.50\n",
            " agent_1: 0.50\n",
            "\n",
            "Statistics across 1 episodes:\n",
            "Mean return: 0.50 ± 0.00\n"
          ]
        },
        {
          "data": {
            "text/html": [
              "<video width=\"500\" height=\"500\" controls autoplay loop>\n",
              "  <source type=\"video/mp4\" src=\"data:video/mp4;base64,AAAAIGZ0eXBNNFYgAAACAE00ViBpc29taXNvMmF2YzEAAAAIZnJlZQAARdptZGF0AAACrQYF//+p\n",
              "3EXpvebZSLeWLNgg2SPu73gyNjQgLSBjb3JlIDE2MyByMzA2MCA1ZGI2YWE2IC0gSC4yNjQvTVBF\n",
              "Ry00IEFWQyBjb2RlYyAtIENvcHlsZWZ0IDIwMDMtMjAyMSAtIGh0dHA6Ly93d3cudmlkZW9sYW4u\n",
              "b3JnL3gyNjQuaHRtbCAtIG9wdGlvbnM6IGNhYmFjPTEgcmVmPTMgZGVibG9jaz0xOjA6MCBhbmFs\n",
              "eXNlPTB4MzoweDExMyBtZT1oZXggc3VibWU9NyBwc3k9MSBwc3lfcmQ9MS4wMDowLjAwIG1peGVk\n",
              "X3JlZj0xIG1lX3JhbmdlPTE2IGNocm9tYV9tZT0xIHRyZWxsaXM9MSA4eDhkY3Q9MSBjcW09MCBk\n",
              "ZWFkem9uZT0yMSwxMSBmYXN0X3Bza2lwPTEgY2hyb21hX3FwX29mZnNldD0tMiB0aHJlYWRzPTMg\n",
              "bG9va2FoZWFkX3RocmVhZHM9MSBzbGljZWRfdGhyZWFkcz0wIG5yPTAgZGVjaW1hdGU9MSBpbnRl\n",
              "cmxhY2VkPTAgYmx1cmF5X2NvbXBhdD0wIGNvbnN0cmFpbmVkX2ludHJhPTAgYmZyYW1lcz0zIGJf\n",
              "cHlyYW1pZD0yIGJfYWRhcHQ9MSBiX2JpYXM9MCBkaXJlY3Q9MSB3ZWlnaHRiPTEgb3Blbl9nb3A9\n",
              "MCB3ZWlnaHRwPTIga2V5aW50PTI1MCBrZXlpbnRfbWluPTYgc2NlbmVjdXQ9NDAgaW50cmFfcmVm\n",
              "cmVzaD0wIHJjX2xvb2thaGVhZD00MCByYz1jcmYgbWJ0cmVlPTEgY3JmPTIzLjAgcWNvbXA9MC42\n",
              "MCBxcG1pbj0wIHFwbWF4PTY5IHFwc3RlcD00IGlwX3JhdGlvPTEuNDAgYXE9MToxLjAwAIAAABhy\n",
              "ZYiEA//Rt3hLWeJyapNAD14dwOhvMYFjJSS/Yp1yfpTNQdT8IGKg94EOvJ7qSJnqicl7RFD5CRDc\n",
              "unnbgvTS3YE7eTcZR6vDbLg1CTKDDFqv/2mZXRbAORnfOpzfNV5nPy420Lr1PukZd1Tjo89Tn9U0\n",
              "KNIiw0gD+cYtgpjNX3Ijtm/8TIlxd9ebYu4Up+3M+lEGlosbO4jvsqew3UO63Pe/Dz4rMFJVZ+rf\n",
              "fpTGT2jEODrsNhl4yZJSA/nfSYQshDVifvA+okofATn1JUyiUn3SpNQWqDk3MUSXXtMV7hNdu1UJ\n",
              "BTcpYIt+rPjIksPzQPahZK6IRD7RnSZNgb24ApqfZ7eh9FTGZjsavN0tP5ygmAsHbbNLlEUq2Y+H\n",
              "bJwU7NaXF6eANx5Kqq5Co9Hzda8tx25ozO5/+MQO8J30RIbW/6HSWaItkPVidUjbEW2Gbv22kjZf\n",
              "ZGQUhOxQj8g90ok1IvskljzpYGot8ZJQZwr8Gm90DjlRLGzQ828R3eitKU8Z4Ptv8oS4Ub3oYlog\n",
              "ht2MID03tAh+/jhgAfKecKnhHlgBlaAq5IC0MKF3uc1l/hQ7lCsOeWH+yltcF7roQ0pZTQR24HP/\n",
              "up0vXrBxLAuDkO+TZMBRij4zJA04ZjcGgE4xhonNan124dSD80DqydasKo6/mYkvgxYzXCsWVARV\n",
              "G7c3NUAYHp+zSLJVN48bwJHYStarhsJUy5nblLgnrXYaEANymnwFdsMVCU6BaooqFVi0XlKneVZh\n",
              "nPDp1flYyuG1yjAegGANHL120UrfmXI9NJL70nm0jLEZnGubUKYe0DDScigBpHYLcUEKUWvGegjD\n",
              "DY+2pAJdOURUvPOwVmY6n0VHsF+6q35VzLg0q/wJ1U7lxBiMyKMZ3GWfCi0ttraDamJv87YQkVXb\n",
              "yDTmINm7NoChuE+tC0j9wPnqW8A6cBZ7MI3FIkApGy+fV+9/kfa/9PVI1/vqJ4nCjxIapQnsbO8e\n",
              "fmUw95TCKZ1aDqKQVhqnC5i8PmBQEFi4MtvDz9EYxzJ7XLq9uddSbN71wIQ2Z/kmdkKfY5V1qMSo\n",
              "q2j61XaJvCqs7exjQA1hRP47ymmdV7Fdc1L+2zu2979qiXLMTf/cQOCJGjeY6qgRxcmgPhUu4mbx\n",
              "H8mklbahKwakAgc+eWVkmi3cEZ5BxCgmOa1ngiX1H2MUHnbWHSjyOSkggFR7wb72OJQW4U6zmkte\n",
              "tpUXwaw/yaGhjfbzmzH2zQx0NpZbY5/eHmebqEuc3kX4t/N02LQida9p/WMDAqKCJwLDMJtHGhzk\n",
              "yQZdGntkm+YFxEoGJc9RpjsaKh81FK1B3WJvtRydLLalq4CECL6zmBWlG9QZ+iTsu5D2mSgWD7La\n",
              "rNPuWdyKJiRlIss0vRT6wXa89WzQp+S/bkMxbd3g5noNLhuwkjkAzIvmMWb56RxCCT07zuRH9s3C\n",
              "+Zbwt5zJBgz+7J5TDRN5uINhn3WS03psLFvXivjPH5q08gv0Y2Tda2uCBwDq+6o7wODA4XLh11Fc\n",
              "Jz5Oatqv/83KPalFdyqW/+2tgxkhM4DT3U/WPoH/P1bMwtZcJf2IRc7d8bYvqabdKH98kODWDAu9\n",
              "FrcAFKO9vTbv2rNThyzYInXYG2FdRGahLyVpYfgcaAYaj3eMqsXSTGZua5hdeqyTOGE3+ad4tSzw\n",
              "gitZffrAmHqSdr/lkwzuc+P8cloJnIXAS9G9R1V2ZbD3ggFA9c5ilEmZqyNO/xndDESTHm3la9Dn\n",
              "2+Cxq7dc2PCLaepVz1rvfTtHGi84rEh2vLBw71gaCJ4BMOxiRNAoJETEbZYyQrdQP6UmwXAKAME/\n",
              "oGHmwbsGSOYJuO4spx+aVzyEaK57QvTFuODgdr2bL+HCOPbO7/jOcnsLdS8dRJH5m2xnipt/cKF8\n",
              "7ss0RK8IOV6Ppv/lP4OYacqZ+4rYFUT/fM8FZSoZbgmlVYJwk1iQ/xoes2Fqw02nsl1EWV0qG25f\n",
              "W5lgWNO/2FYOPhdd0N25lvbG5Di6VWXtqZWY8imzhlTsucKtRcUiHCwhO86BicIUaFJ5l/SgEdx5\n",
              "G4KBtV7tViOPbeA7Hbrl1YarHx0r9fFhNkQtrizg1mnmxHhMrtuuIcZw0RI71HzMyO///Tg3bvWR\n",
              "RRy6W+LHy68POdzKEvnpsZg4Ni/jAsHXvfNQ048BDJ8YMXw/pTc1Y97UdOevES8JMyA/nGmUpNat\n",
              "Xp5xQmbzepPN6GlkI89QkxmxrcHQqdpa0tDoh7MgJ3OgLmLhMgeDtxFntmEgWo7S+C+TtmGW0Cuo\n",
              "Hruh0XWg2Ldg/wcPo1L/8h1GGS1cas6lo6on8EzpIBWnFU96rNBqjpT8lQcsHM3x+f5rPo0JF85L\n",
              "PyF9kzyvUk7ct0KVREGmACXspCJyKCGiXQ9aIX98EH6S4Bl31L7yG8z5dkCoQAUcqm21HkLEmgAf\n",
              "CRPVKQXVUWkO3Kphcxx8WT0k3z9cM3eJ5fymK7kRqRjXAqZpd3LFpxPv5fPKsWz3VsQksH3vNINr\n",
              "gnfOOc1QthxapieuKK834iFY/aGv2YUwEieAuGov9LZSiueDAHZNhKmwmDMO1ErQhMy78Nm4846T\n",
              "4dD3oyYX7OhbiO9LMfwCIOQLrNWqeFIukAY3DFEXzddShFHiqtMvx8oqQ4SakzsMW8TFJVbe4Gtx\n",
              "WOn09AMx6Om1OL5lh7rFZdVfyEQBzCZ0NrRXTi7WCHYxnG1w75+uZINjx/Pm0Jt0FPWkijpTtHtR\n",
              "MMMwJZP91E+7+cru6wsAsppXPnLiAT9l6AYxB5BEdRpmVhPeiP0OdgnomHqYRgVZUDYBuuuKeb0l\n",
              "NQbNt6CL9Dj2DPnojPf5bDvnbWZDAfjr5elmhTAbvHef/rjvItN6bJSI5tuoN9bOZVqUQbs9ddqi\n",
              "VOPJKrDDran4AGPrHgeMTnpQmKB1LNQiy2rXO3U4EFLMnqxV1LbGiy1kBxlAPApahpqFC8vniud7\n",
              "SgsaEgY89b3X9UFnIt1jDrOINJvDbc4DugqoRYn+PYTENIcHy6NgEllBrIoLjAcU1aF3GyNAGEJU\n",
              "izWYVWVFzhH5ljEBo0Bt7p5hIVJJNJqRXG+AXY89NqrJFdw44hWn+xwrAtcv+icvjV23t5qNEcYp\n",
              "+evhBBblLA1MUi2cN9/4+j5Gfpo2Rl0F2TW1wVBodWOyaYSVfE7p9jwQZmpeRUxvapG76y97AKA1\n",
              "dcBCujtA4lR1jqm2cxpAmd9SThWhqf4EXaYu3v6Wov/zKESYRY+VLZMMy2ULhqS5fr1mMMo8pcMT\n",
              "0b9L3wNfHpLqrZYHQ4Qc2DTBSPEXS/g9pZGI42wODoCYzO4H/EG51lAYeUrhFlG47hqmglYannfa\n",
              "0xrAn/j45sbU1UnnacOfORYPyDFfa7Fivyq1LPIo/ePImcLHbclbEaiIoRtxApJkx6vNTf8vDLRI\n",
              "VVcfSkauEEVpDKcFmYe5qpcMC0IVaWdCMv6jDM07qTL6HNwX2tpeZYQksKVW/NMRM65Z6koWe/Zu\n",
              "PPJ6cSIELwjr+/Ee7c+tOyYQhfZwVIxPwG0b3boOvOosBJU9t/yCPzmPJNB5MyH2Nhw57qIwCI06\n",
              "lB1MGgISHueAbsxcVpeU0BVJ3mWK24QrmjRxujIWouTAWU95ucu9gDGtAUZa7gZRbJQF0CaXEPb0\n",
              "IkuFMKEhAHezcQd751JB9Pgegf+IkKph5b0bLTHUH8LYqJEr7Eb7d0vZ+LOQqIHZMJu9OcrD/+Xe\n",
              "KkJVSj5EOD79i3vgBrWXDIZ/6fe3Mgf4Py54pBb4Dy0ZgDm8gdNEOP1ZqGegTKTYT5vUhd/ZBDj+\n",
              "vOVSo7N7aYUgYYYsFEt/poE5ElQzlwEUt+oE+vN/ShDkr0/AGFGdrJAuQzv/EJ3+I1/lV4wQCc4u\n",
              "0pVdbb8J9WMO5Luiu60K2IPQxVzYI+1B3GW7H+2Egc1FHhksA4M81AxvS5JKHPzBaG8hx2aOwZLM\n",
              "1nX1b5Emb5ObDl4PaKEK2iHqYa8fo8dgsuaOPtLiyx0tLgH9V9uiU+WGQcBiZ1LLCQdr8n7LEFGx\n",
              "3B9Wb9JFQfrAfQNy/bGeH0tOzGc7XgpCwGRFl615mrTP1eulAo3Kbvxc9f9y4g0BnnD56E9Es3vP\n",
              "KkirhQ66knrbxIR6Ic3CzVCjjdDMscwTxarbw8ux3OuEqTViDsVCLFyhqBqR1R1jjrF2WTz/+zFv\n",
              "059kQcdSdEPAOkMqmDvWWo1Cu+IcH7o8Pmw69ExQpKkwI40e7FGPHMeJ6LE4LAUsPyyCWvrk5gEP\n",
              "eSk7Lpw62tmspqsN+T5Vv3OYew4sspvO9jqPJ/byJsuCqHX2kGWGi8VgXRuRdJrDzwGejb1UyR32\n",
              "spdKtJhiXSEMYvvGvg+FwOcv4DYxix7UZ92mGvb2OrBk8BoEl4UvxTj1Q4mMWd6JnojcrFTDyui1\n",
              "rmmoNTqbx5g9VS0GYzhVvpNGrmxFY875YVTBaG1Q8SJAklnY17LtU3N5gQQM8CWMY962U7npyMUL\n",
              "r41eao0Of+znx1/pQ6tFmu9TWeBySrWZJox5fXlgl7FkGMnwe2sTBdILc4sEoqd8rU09DQnS9WJW\n",
              "yG4I1YUJn/RGqIHOKg8fK/7Eib2o/SyebsZ/TvSStFukC7lpxLgQ9LdFkx6Dzyz8bedcB1fvLZqq\n",
              "kX52MgHK0V2dqgBbLT31Ip2fuPDTZDmOu+lqYlRnOquJKh63ZenUZOQr9MwJYd824jD8/jNVBBNn\n",
              "4cVUEuEaC/EP8XC3q33bEuz9ZfZq+xHKp//xSTRGve5wL3OZzP9sZkrwxICi2nQg+kdKyGyH4Jbn\n",
              "mZj1rZUXDsJ1xbxhMt4WFMyouf0IePz9mz/L00OnF4EsfrOmPejVWn1Yb3+VSlba7edW0bRkOiJT\n",
              "K+QFdasF+PFP5mfJqOFDNIt3ESYLNMmbksrfReZXOj7nl3835lX6C36grRtQRJzaajFm4HoNMuxO\n",
              "3NrKa+4t38Dx2+3paASB59d5Q2eNrbTpwFufup/P4GMyZvJIVmF5fmIWN5hYtxvV5yN6/I1Vld7J\n",
              "rqe2sUkdcU8W06DOmg7MvP5q39071hc2U7YVtQi+eIBOdOelx5TPrpzhoDQUIQM4TJH0J28pOlK3\n",
              "HsOHyTf5ClYlmdwXkoP/tkVmYPBxAm/pbyZDgkNDTV9L3/JIr/6R1sZIRoyTqZJDv3ivlhy7BpWB\n",
              "dZ5rR1xcd7x85fZqxhFvKF8zFn5Ba7TGh09nctwOA6PQh0K2ICtF1i/YPN/vBWxF2lo2Faq1wcdV\n",
              "wt+yZ+HxKnmfBDM3LU0z/VnT93ZmNagRt2es3TDljCQnGZcrgpZp7MnwmQJkUa/a9ftpJoR7PkfF\n",
              "dcOibjnngCgShFdGSAg+qxQ8lDIOFFfQudrpGCkrmZjdCMTMbVLRolgzLSF94ADI+UNDcrAAAFBq\n",
              "uSvmDlGK2uYOYOAqRLdAgoZymQayWtkp5KK8NEP/hyrQXSXQMIlJXkV6jki7C5+mHud5chTdGRCY\n",
              "PONOHgHFFLGckkHgsTYVGWvCFf2yUCmGr2Q9eFQHt6GAlIeH2wiVpFxB3vnoUH09UR613yb78dDW\n",
              "xMrS1kjH32C/uAajS+9ZonKHpuXKhfWmTUfjangcl9jejpZLcEhby/cV2Qm0QbXpRf2fTSOJv28K\n",
              "otDcp1pzX0TYsGB5pqIYzE535qzotRd3dms0MivxUlmBxlyDLUrLzsOEsKjD/uEw8tyxVqke/GEX\n",
              "JZU/1/w/RdntuF16P0zCmoVrevBTcDQD7JdPhy8US4vbCe/jlrJF0xRAz9EZW+s/+ZabsAUXbNSC\n",
              "LXM3eRbPJhX7LY5KWsn/DQZfRsgCzxbyN/PTmIPqNIchJy3ifmm9I0A8nXvtfsdjoRjcRBOTxOFu\n",
              "eS9YB4TGeAKal/DN3PWl/MniLgrSBBZjum3jZE6+c/73tONI7VQANeMQ2dxVPIhWTFFAc4AHuQsl\n",
              "2Iw9tSfnHUvHNcDWOABUWPItoz/a8q9tEfptiKLBtBnVbrfDIWm9HdVFUT4si0e0TKRAW2c2Vclc\n",
              "e+Fbw5gPRJh1ijG9x1oxdrHfR6oaNwWU2cVXpYcQbI5bm7JDksXNfkTNRR1D1MwkhkowUjnBOQkz\n",
              "2qZaBItnup4gzC7iIul5ttZoX3MQHXB1X+zxJu1ArOsBPW0x9MNrF3MgTU/DfV0kBuGq8OY0ki+H\n",
              "EU/bvPhxoap9Z1pUfQu9Cw14KKs9M0UoLRlL5NY2hDZr74yT5vIHRWQ3iH6L3GmK6uDGr8vZ2rcP\n",
              "oj6YNbySDXy7iwLtaHQo7RMw6Q9odN1goDgAJbJf8czIGbBYBsgs+CioY7wqnQqu6XXsuldBXC2K\n",
              "VXDfeHvF7LwFVqrYAmKZLgCV/seE8n4NAULAkzLfqXxE5uPqSs3ybwtY6GnvTfCwra3fyz8AuVUF\n",
              "3LGLJy0VoYNYUJVYXkHhDLYPTD/n40/zEqEDRFSv0gT8iA5p/6RUCZvkAklhl+pOMc9HCPcQmzi2\n",
              "U4P0SNF01kR5vOhcNtVS/DSaU8XLfR3KU2Mvc/8tLdgzGn9Cjo3a9Vpl1Lqi5rQQIulf8h+aj54H\n",
              "Daopob39ZvUoyolBpuamdvWpWifQdbkVgVsNaTOb6gRreMoxl16PrhMzhLGmY8gRfTd4QU2piOGD\n",
              "ECYz97q/mOpS14IK97HcLjQaIPiT3E3Dtc8fNx4YeSU4vWWPuinsx2pzA9ekaubqwDVue4BzrAvg\n",
              "mauttmEql4rPu9PM/cDTWbD/jBVVzdhQKmC0WmrA62CeQooUpepmNtMLQqjbqWwo3oYnrfRNbCPT\n",
              "xFX0krjPyFve2s18+WYLEMt+v4CS8uH+bj8+FWscyxSK6BiAwtx/pVfTtJKP29OG8b9T+eE6oMYM\n",
              "zkvOTgSI7NGPv/Sn/8TP6e7LI9XY8z+V8Vu1E5UcZ1WaahZhRtuJv4dr0WD60zC+nc7xaMCDC5Es\n",
              "5e0GK8fp/WS4x0ohnTaR5bRbX53+wndMqxTUqkxcADBY0bQQzLswxM9jZJ1DFuHlDMbqWHPpDqaE\n",
              "YPBBzDU18PXLz/csHHPVnEJ9BzDBXNEkD6yVMGDSx7nhA9FvrhRdytMPuGGy/yYF0OrhWT/UCJsw\n",
              "AssEy9zmD01gqCEd2VRJL5mxxUEVi1nzdzb8O3yyiAnf3mPGRiKDgqfhEpJ4RIreqcDmcdpEnLcY\n",
              "blTzsarsbtb36N6JBQuXPvU1pnC0o9F8HVmHn8nR2h9D8nuvcL0W/zT8pdzm6J8wQpPoexUPtlg7\n",
              "0+Njnflg8YeBgf5PfeVB9uM+PWoSwd5XMTMDF88NBcrkP/wmEojWaj+BgXZnecZ0oLq7B843qaxu\n",
              "fEIFjUd/M5PPPUcqxbE+0YJr/dSuDRyK+X9M2zNQdqH8jrU3AlD9mV8xhxdJgsU+bK/BcNEJBZlJ\n",
              "MzALIeTum5KFhgOY+gOqHDjTjHPw32ZcWkKa2bj+29xu4KrINdWrjHhN4G4Xlx5p1ZyYlgbc+mgP\n",
              "WoeTCX4AUtp7+emZYf4lh+g/vxIHNj7H6QOVOTqHOpminqD6fwVplNNMig+29woUo1ZSkw/voygy\n",
              "5Kl79pRHjWraoiDBPzrx9uDxHvf8/1OrF97PYFEzvyDH5gX8dRKR/7OwRtmiT65db+BVlXzMqfGf\n",
              "s1s1ygbFffvGft936rlRD18xvk0JHKNF3IL1k3abknCYj+qn5KzX/mdpby1gvNdiM6PXZ8IfvZwM\n",
              "mPNV91D3uVRTUTldFCctQIPzG/MzzIaP5NLVso0SEpxbExW10pKEcIj6tH3t9IgXZ6e50g3H/ghD\n",
              "KditdIzaAn2mOnvlHNDEImG/WeTsgmZ6hkRTgOb5PzF9YJxy+boqA3apfMAXZLtzgp2uTjwMJrIu\n",
              "HyJk0ofHF9iFT7Xd05Qt07AYC25AppJnpIpVusyxDX3/gCZ7Kj47S5nLOmjsBm7HeTXzMr5/0M2D\n",
              "enLaIWky/ineNK3kHXKhHlZABCV8ybdv5eGN0f5+d26Xxv0kmuMmB4QkMaiYQyvB4OtR7R3aoxhf\n",
              "EVKB09R7cr57Yqv8Jx0NjKMpPnEHYodLSmeLkwvpMEAKEUBXE6hNyvZdd2v0UATC79e2JvUV1iio\n",
              "YyVHCEd4wnG5b2QKW/sapAOjDa7T2B34r74qgtaEC/F+azyoqUA9/ExFar4U2TU9fUYgGPKmhYau\n",
              "Yboc6nFiCGbOM1dwKLNrmZSv489JhJN1SIybOr8TXhf33BezkiGAyiLQ/R+0L88V2cjoxYh6d0hF\n",
              "RkzQM4c/3kLsMfrFIyTRwG+LDh/jNEx1XtI5bC1e/ol4mMZOyH3CLVvgsau3SRFAZS/AJJ9Ey6gN\n",
              "BYARIkIWVvYNqX2IDL6ZCUwmmTpobanWBP9iWZj0uA28XtAbBnkQ/tBl+J1bAAAGDEGaIWx/F7HH\n",
              "xKw99FYYsG4CCVsxfiQNqbhvU7WujghcxR+FEffgH2/XcnN1FISTyFFVVjwCY0H5/xO1S/9c8oZT\n",
              "b2KDev/6nZ8NeQhOC5Qv6NkqUx9kc+tL9Tkz1Q9ABPxIZiDrypq7orV9GzriTMpYw2JuSFR/3hy/\n",
              "7HACBIyWcOuALmtUvLmARZxJ+C1PAVglDYeJoXuJsTWIml70Nz3YShYwgEtszLDV48Z0SNOcV5WN\n",
              "K5PDFwCM9UV9mC3g1XLyvsqmewnexXWSfdXBVQp2dYw0QPKQbsSdzfoKqPn50drMKB+sV0IHgx9O\n",
              "FKhvqksh5RnePMt2/JIIIjkV4EKxnHU8ppsEuplm7OmM5/Pa35r3zurZ9YIps0/VOSDVr09xLPrI\n",
              "fg22LvJwP3IhubW3OfJH/nD4ExbK35jZ5n2ky3aVpffg/Cn7+9d1/orxPy+jYipMsXpuqsq1VOCf\n",
              "ZfpD7oQCeGJd4SDMUM/Ejg+3+479qkNo4NincTUhtwOzYxn+rC8mHkPYbKER3HqQIiIKFtMu5uTd\n",
              "toKJ8t9XB4io/fdJbcUlChcpDv/2q40F+1wxNKQ2exkcHQWLdPMSjmafbG35GGHdtHLjKa86TS5j\n",
              "L3/OUlqF4toSEWcVEMGg7e8rajVYeGjDrGtaoBFNnVcDEBsqSO+sGgMe66+RTqNciuSArrRBsRpT\n",
              "QOOzTW58m88aBrcXOI1VG4BNB6XUShvSF2cCAixCGKR+NPtKc+yxlXGDE4xWW8LsgNE9/2NOcAdM\n",
              "TUpVYMtRNj1qeX9iUBhWVlG0ryEDNPoprbcY0mLVp29wQMo+xt9K0fWxRcD5KiwBdC+Buatwxq/G\n",
              "Ppy5E5mNL989wdHGeV8I2aY3WWB0LK4A4IdwklDQn3TFgDD0mcyl6QnmU7w5bAFIr+OiDQxYeA6G\n",
              "vLOjYB9fGoEpORZUZpdrpM0JQ0iSlv8hu6FJRIHdhVP/E/9BPsC2OdNG5LHMJgvWrOKX8307Dq7z\n",
              "frhNH4OCBLULWVK+fR6+W0oAlzkYCWgf6mKIQtVb7v9NhVomzm3G6raoP1rto90szL2iJZPDQWqI\n",
              "tSov1IT7dvHhIRBC99Gx8y0lqpW1Dyzj17Gs+PlJn7FBbqiLvydzOV+2olV7E6I4tY+WQIihKDks\n",
              "dY+zqOaMIjg2IjXdmWBeyn5jiI6H3zS8R5w4a6KYgAaKpvqP5JLyevUltPDq8Zsvr2PDU//oQfsJ\n",
              "usAFxDgpC3AxQ46ABMva7XsgoimVupWu3aYqSb+6Jk8Lei1spA4SgmnVhlUTP56p5whQEEWWmBD8\n",
              "avxBkqziTzNDT0sbwDKgAAvWC+0GwhUXLOVfJ+OnAQSEh4vk+h0VG0Zka24ZyONwfk6G0SY52fAv\n",
              "XdJgsZj0olNXuXggXmoRuGxdFAQzOtLtYo/D3hFyPoueE0mQw+kbv594xlQq3pgZxESnc1pHPR0W\n",
              "As8y6p8TJa1tLsELFyJkWBSLDwVEYDQy3uKfOi8FhW10DbcCrhMCBC+t2R9uY+R0qQVZ2H9R2f3H\n",
              "smj6Z0koE8IomiEHIf9hDDfqka9StSbDCLGoLcxx8YDX7kQ6Sbg0K9Zioye8vpCj0/324tR5ha/Z\n",
              "isf6LXn5bfxQq3mPsbXAhcsabkimS/1hY38ct4kGjwawGdX+Jh8uVfUEv8ftd6elqCHQk+ogkWSX\n",
              "lrYfbfpRVyJ1OtzBfAKVrVucTvjlwPTIquH4NAVojHmD0waWjkdYlNHElSLWiKrDbXwKObHYKt0e\n",
              "m4X7Bg6PqIHIZvM3moBIwzfPTArqgzWqqX530hnkaEaxIUoUOull8BtErmp2ks99rkk4Ay11+sjM\n",
              "lzG9ERj4+IN2gFxCnPuNQuDzIovURJ3vyLZlGBoPONlJiQsjO+WUdXU2A5I+kO7lSiD9rK9JwXwO\n",
              "FqqZ0eveWxBmBX5Z1cN3IxHPyFLutbQRaBpgnSFefU/1pd6H/7JehYQTMMwznymkkLYIrmMt+c6I\n",
              "wKkdbXjI3CtltzEir0tctbXIVkKZhyL7zK0sBToU5YzkfyLiqDele18ThuyuDaAswKHLRa7bOcGp\n",
              "NAAAAf1BmkI8IZMph/8AAFyrD1Z5d2U8Lp9Cus8CWAnoS9Xsc/W0zlI6ojjKbLLyS+yL72LdfQVR\n",
              "pZrPVUe5ndNn9ot20UNiQkLnJQq+SiJUKKdNqTQz8POSIKNTl0Qfdj2SZp13LetDTFAX8YuUgkyS\n",
              "gJBR82Io2j4zaxKdb5VSIk2zGfSPldt9+zeZraQa+7kxbqoe6HuSLYRZ0LzslaPkAOlgQU2iEb8q\n",
              "ZU7py5OVPy1YrK+3Bh/jAK3x0TbgQFs+vA0l/q4n1WWNEnm3FyqQypbM3D6DSeLUpgCftw41iWmM\n",
              "F6Zwrsw/c2a5YIrDkOZ6H0kvPcuiyLUOxrS2tsMdmT5Ha8WfY2JlxQhLW5IBiz4FeucF356a/HH3\n",
              "RC7FzAgeFuzsYY9wJs6RUKL/cXVo6x+35+gHLQar20ftMIO060UPO1SO2g1kAoIVKT2P388Pihcm\n",
              "Ny5dJ3AxUp2aoP+KAAyzqFDK+vltQOdf8n2p35BloObiFI8dCPTieFXRGPXCZg103ZD/Xby2q7JZ\n",
              "vRc6L9hS1d2Wpohh4eYVcPVfeGQQ/NW+rY24XinFm1puJQYzCXf3UCRhXDAoaQ8c5CCDkhPmATGo\n",
              "kTOG8/5gGDSqqNT1MzLYgXHSWhf76JxZEV1vYtGe4OMYvb3KD7hwGkskdSKc9N4C2lpTSdpJEB29\n",
              "8QAAAj9BmmNJ4Q8mUwK/AAAPFRe8OFsEN/8K2bKvwzBMJDKgeSfttnJPvoGex/OYuxqotX6RaChx\n",
              "sGJmolygtCOQAvSqE8Ph5ogkZFP9c3dXwxweTXK11FCfB0OJa/oz6b0N6XcqJyIjPGBVgiGg6i00\n",
              "IGJkGkRvuscnkiGi9Jn4DPJmPntBqhnHRwTglIRlQx2I7lhbYyfpwFBxF9jV7u+WVpN0ifmMxOVa\n",
              "TyGlaBLJ3hiC2YCWChLP2DTriZ6FO6BiU5sWIl6WKl4mGfPzkQMooTDQzYCRcr95UszpBkZGrlvM\n",
              "yjMwKGMb4fb2EXrpMSaGn0CWUbHge1BSalhKpvx17KAd0RrTHgtOBMOPJ747eOrS8a13kSf1UdzU\n",
              "BXnJmR61HF/f8SGXGEhX8yHQBTYthBRK5tiBbsvHxn32XkntZ0rVHK5xgXguMrKv08Jyzm/Yy3r9\n",
              "Ij00a4PdAsfF78VC3mpUCxNpvsCZDmw9XB275Bxmd3Vnqo1dUJOW+Dy/gfqveimDuV41LqFmkhG2\n",
              "cl310tio141FMMsO6ihMfdJZIgy1MYEqdMPQ/IQzx8fWvQjx0LPr0ETj+tKwoDKo2ipdAmXWynOB\n",
              "Xy3UamhcQOcBHSrnwZzo0uV3hqCfJNshx1wjWqBRyrnhK8v/wV7lkBjwfzFSb6TCvY3E4UQwBVbA\n",
              "rWQO/jEfno8J7SBarvnrIePNJpftrco9ozD0/naKJ39KsZLoH7OjpB5GRqPGqne244v3DXk1WsHO\n",
              "/fVXQvKVhbJXwAAABLtBmoVJ4Q8mUwURPX8AALzK+20mSnuyT8PaM9uVVfaJX9wlyrFW/zUguS2R\n",
              "uZVuYpMP4O8Vr572BPs8CR6YiVETjjBaYifBLmAnZrwP2ItUsQnaVhjm5kOwjBFJcrd1w8fQwqa9\n",
              "vxNaQ0DRXxLh5N2XqRkSQ6UMxgLn8ruzfLuKt0NYpfRnK37Y+Nb+Ajv+bznp/oH4ErvrZgOjucic\n",
              "ePkBf/v6Q1c5/zXhO1oCOVHJXg1wBut6WV5cqbz5QUkXzTnjKRiFm2qjxvu8alOkJ4PT25DCWUcA\n",
              "+jLTHxMUJgQptgNfFkiRFecMtTV+YEMt9523t40Srk2FSgT0tDFESMC1RmEurO+6vdgvZzsLma9P\n",
              "Y3sfXXbu6ugLrjz0applJztl5Y5VzQf+oNEU917OLPlLiP2IoPn5IZBKr2XqWcRQlFevCoDMKrlY\n",
              "BpuNspb3BH/VBN5sYrY3mCXKZDeJlAoPzN7+Jnee+4FQjlqg8cObdDOyWvBOVx03nmlnI7/hmmUu\n",
              "WDeyVWHyUfB2fDnbMZ7KH23MIijMG0pFQjPYiBGIXA0g4AW21Rgi3OdY4FDENG9AnQADHAZ+1Aul\n",
              "nzhb1Y9va2oKc+gBs3HNC5UTvPaeiMxd+yDrUqp5Dc4nCYoRj8ZU9galv948xZwJc0WzENuIuPQm\n",
              "+VawfdW2ntimbXizSe2Cs1oCOViH7qAdZCbIMytGNHxpZsTiwRJoy2VjQL354K3ISXd52Gz34tpX\n",
              "OVOFWFm9nPV1YgY8iPp/BzrQm2dn3okhTNJXnhKurKq5N5jHbwaV87ulAqwzmELijwI+usOjbwa3\n",
              "lPySbD1pTdwZn15xNlCGsdObob1UiXcpWy3gRQz1hJC/aMfasXXIOEVmt6OyXpftoM4NcDaOXzNS\n",
              "0DFl00kjeOHLjXooWfkLkF/V3MjISY4mvKENP6KPQ9HJHM6yOS5xZDQICQ5cC/T/QIU48IwQlIqQ\n",
              "hhglXGR2oAXtgFjSRSH73Ac1iTRK/DrxUbG6tSjsllzxazpjBtaxQWTDDT8rOUuYk1Z8cdEN9/BC\n",
              "E3IL6fph7FXEIilyd2K6PhUJdwUPczJBqI/rTsQ3sjoz1pekATFU542q2itGv7/sHXjDo865++iu\n",
              "RcR3URn3Iy/eRXKIuwcnAawH223otn2Mmj2Wl45Jm1c51q6tsjAVKQIvt/ZUMDlL5S0uMG8SGMUj\n",
              "0GtfhR6Vd67XSermJwgHvzc2vOv+kiIr4wv7/yV4M5XZ/20CknlkWSVzNzmirOxFAlXHdNQpBK6F\n",
              "CX0qtf+mEWpgFYYk7C1B0qejEEyKO0YGmpTZ3bLb7ExBnZsKyQzHBoM0GAaxXY0IcOL8oXZpiKzK\n",
              "npaje/m4AJWCO0yh/rY1cf7f9ECLxUdbWM1mSklfCVhuKPVs280RlrLjHtkLGjTOJgIYGF9fsOoU\n",
              "Z1wHYNBm3tZO3Q9aMIE08+T5rP2ljZYETIU69tmecIEUHunC8yF/ECeCyZg6Hd7gHl87xdw4yiNN\n",
              "5BGg57FAGII+QDrgRqKwpPeFlFdE7JdMQ6e1IjGnEV2ChHgvCp7Kszt0uglKtX8hL/oQsD0kQhEk\n",
              "HsU+lsvJ747H/gwvQnL9AMWmkwYw24cuygAB8wAAAGEBnqRqR38H5oFbgaxzsAuiimteJqzaeDO/\n",
              "Hs+Du+nkHYLpbz76sy3xLgY4Tc5MIbQuqVCIPvVItRBRG/nbqU6TijDBO/JmaNDv0yXQAYqY2yzC\n",
              "Yp23qcdvF6jihudfAA4JAAADoEGap0nhDyZTBTyfAACWDT9HH/3N5M0WXA6AgBUCNeoE7HDQ/gWJ\n",
              "j8iwENMV6aoM7J4K5sx4z8lXwLwxgCB9X7fy2E+T6s9H4cgxMTys83xjNzjEHG1oPOqyqfsPavrs\n",
              "iYOZMv6aBtcdEljRCbOhFWZkOioSNShc+cOWEfOrTq2H1W8Sgz2GkOIi4ISe70jcBoq9PSsrn8hR\n",
              "d4oGyh/q6kaAY3LErtBSCN3SLYjuufvyE+tR95GwGMWmL+bcY3TwpBBwyMCzYwyXec6Bg2+Lz07t\n",
              "92oJSh+dTB7zgtJKPmLeLagrdTuicsouOvqV+xRK98//0nyLj2y9EtDBiy/jOoNTIshos9CQ2NLW\n",
              "wKm82QDqrURFo9DXHFg87NdLBupQm6UINvgWFEEJUlIhcvvRi7ivRYe+lfM90e8efoKvnfFUvUu5\n",
              "0DWsBYVT9WUVfLwLy5AmUzTqwzmvcUbmp7hWDZtNcl4dYp3qbYDs0Z+iXv1W2Rt/TO+6o6sIkWz6\n",
              "QVqEORjHVXAX/fIHJjtJYdcV0VXf66f9APYCvuxvhWPdPrzap3JNsoArxhGr82GCF81EHzaUfPDP\n",
              "Lx95rNELAsPbVjjayUJHnlyl4WoxmlzyzTf6MnnyFOfXsEvPEDcecHUg3Al4ciSwrJdXghHopYCh\n",
              "6Rt2MW/VrxAGKL+0uqD5fHLgK4LVRYFN1gPBRBc97bIJnD+2AM5yJZHx/LCUK9f81ZZ5tOabadpq\n",
              "QzQYviDrchp2h4skTBAUHm6y0yPcnwZfm8nOmXo6Qmbl84xlo8POI9uZyNnLs3KhDBN/tNIqGyzK\n",
              "HsRl6869OGoYQU0kIAwOLY0DWzH3GyzR0bGaB9r679rq9OJxg/9GIgzwUt2x1KN5mQEYELjYaLMl\n",
              "+N/JdCyGtn2tag+hGGiST1XH6IDif1RkznFOWPDjRn704I7oRU5nQqAR4apSWE6hXzTFRuVei2hj\n",
              "CmGAAq9gIWpZUNNWMzhVqJqzbEt9KJI57GDDWkumGIUwnqr8ZmIsJNPsEtJccg1vfM+YSFjZzU63\n",
              "NDcVh1lK3WiTX355mbHfs+tUeHlR6/JvxZG6lNBUbOj63Yi1jCO2Dy6RUJRJ+ZKGcozUUJOcxZ9y\n",
              "81TFDWmVNvbIHzjAKC2NBJom3nfzbYrBJ3VqlIPsmod0rMUSPlOin6SkXJbMtvhgSY70DUbSPL4q\n",
              "sZZQExDCMJ67PD3WYKfjtKaoXTJJ45V+4qPvC8Z8VgGABSUAAAJ6AZ7Gakd/B+3wQvFfI+aEqV6I\n",
              "XlBO2en8KV7sNW1iMB5eCP+hafTJpif3zJaHKf5sXOiMrfm2tJAIfsrnZ97W3LamG84DidLW1nBP\n",
              "jzhiTOlgJkLgBTPso3TkxXfMBUdRudKiCwIZA/y04/NezDNTZNiiQ3F1mCZ1LM9ODy7UXl80goFZ\n",
              "1gxRKQJzC2dlS3H6ExXY0VU4cgcW5o/1WABSfkWVWCLs248M/N+Z675glxkmj/DSP7rb2Xflmo1z\n",
              "0HTTyZlyQhiSxrchchJXCdjDPo0SBgaW29+V914MYyAYeUxdTD4OxEEnmtUySI0XXfTFsfbczoMK\n",
              "IAXwnjIGSa3JjgdGWDJdqEFLKgrnR2K6MF89LnDHAdkhfsPuajO9vEEziswjs9JilJfnDPIglZeh\n",
              "mH1goWr4+EJ+x4mYkylD8RSOy/G9h0/ysmfSikqZVg5ZvEiP925fQmsZOSHNw+MqeNTI0k5MZhcv\n",
              "RP4nYQpCO7d3ZlovIjHJVXaonAkf4HbNv4Z7jZMP8WgnMOoXMvOYZPKT61chE/k2kTLB77El70EI\n",
              "CuAnSyarT4E5H9BKGTkNr97WZU4Mpj8ZVYM6WsZ4x/NObSDtBwOvbT4saEh6bkE478sjGt2vkLJp\n",
              "eCRZ8SDNWS1Ppxe+qWq+PeEO5DrpyIJrBwgl9YDQ/Z+drbiEGt/dJqllHIe6nAd8iVgnKiDvBd9C\n",
              "p4Mf/G4xYLXgL+sq8LquimHKVCDDw/4p8BHErxdbAEmdTlmE5hzWAc7bXYI/IFl9RPwFE+G9QatA\n",
              "qPljWmI3ye0mvrsAQsNsQb+uT3O49Jnt+NIu+zZbY9FWY24RB3CAd8TdroAGpQAAAp5BmslJ4Q8m\n",
              "UwU83wAAAwC//obeTncqKWsHpE4u4MRyW9jUsvEtV2hrGZJ8wTaW8mvAltoJWUSe1vrzBifCDJ3u\n",
              "V+0rIWS8RTIDoDVxmmQfQaTCix+33wUS2I5tT80zESEHQEfYulgo0y3rO24kq5J1dplYPf7/9ZC7\n",
              "M2kTdbW3bZofPDoceT13mCvkPsHHdB17OknpbJhHQ8vQfH7zvUi6uZkNu+KJndWuqAFyVKtDZ1Xd\n",
              "WbF5o4B9HYorIrQcye1P2qMNFpIg1CJ7A61zSHAYZnCE7f/3COwaQRLYlsU1DXdK5t9slN/mwFMe\n",
              "r0F0tc/P1Fy4V7SSMvogBb862yPMDdsnI/4KpAstDRZTv52eI+Wgfw7V9yiBFXcTAIJ2soJ/FkAS\n",
              "c9eI+RPVbl9P4JVhbEZ/60UVqgNOrGWd48EVgAdfi0726aizbtwJjDl2LyCxCEXbBucclpKoNLUG\n",
              "sBZ+IhW17RRH042ulfPrYOiyGW4jB7mmdYVhhgZ2FugHn8ddeCy5rcRoqxpp5h7LstO1Tfa20pD7\n",
              "lGzVzpRBBebskQJIi53yx2IGEnRIT1N0U0YEjCgKSw2gD8Oo05cLcUsLe3oX1moCx8nAN48wSRZg\n",
              "eqQeocf/8q1disBnSuLSchCCDYGexzy3g6jqkEd7fsUWdH3+HWhsPrJMDf2s7r2ZdCXd6U0qkNZ3\n",
              "htKRntILj1Yh1AgHeQ6OUgQ4S8Nn9wmRcfhnFnOvrldi+AetBqeUxLztfb2jF9T1jRQYbyYpXJDb\n",
              "rmTc4N2XTWD8RG61twLU+eNKBebw8F/9vxNFbzJ8+BFqKJqKpUvAMx+5UgJ7zrDsRIBsRwSSaEuW\n",
              "/gaxuma8i3Pl3uDb9UpPq5nJ8mRebu+kwqY8Ytv2122kkAKmAAAANAGe6GpHfwAA+DH04AiZQOZB\n",
              "dWkxD91suWrve1N6kT0JrYUrNBkArMwC0mrjDR4ZcPlAEfAAAAQpQZrqSeEPJlMCI/8AA8GOdrKi\n",
              "f/rmpKDd26Gye9tNEFaP/KxuxEtc75RMH/WE4ezfbmnI7f1SfW6InpksS1Z6TL6kVblq2UKJRsvT\n",
              "9z/W7R2UF6glbka5DjlBtYntZBGk4OFaqe84q9ivbTVnWV3ykpp0VMhh7nF2Se3ElqeI8RTts3pW\n",
              "rCimB2TxogzeS75Ykd3Y6I7DstrQRNPPDl2+LuS5IONO0B1TCyuTbA9Thv4EeVD1FExMwviv6cWt\n",
              "2AY6WdYt2MABv3K4mFlogaEUzCOkj7kV/4ow6+wEbD5rbcC8f4+hAxwWAMXlcayee9fQoARxhLcB\n",
              "t1aAyyeWy/miMc6bP8UVCxhCP1tkJSGZtQ7W3VMoPqpEJXtTPZ7FUWGDpqmsb3Y6+bIl3VeLy7lG\n",
              "i782udeD8SsmS3RccaVRGVraCYamVlnG5s43BQ+X4neATSRJbmlWkEbW9bY55BcCZRH9TziZD/Uo\n",
              "FsoFoxx0KmXdpcK+P3RzjHkUtsichhprN2GTqjCqDWhJt3uUFEh0YFZYT3HyYiqo7KXLfviqqAUh\n",
              "GD9vTiY0Ag5Wh7aw5jh7i7EssGNOJMiH3NPe6aA5mprOYtxHImNGWPNfooSYL3YIHClqrBw4dFPy\n",
              "g0ABZ7wv8pQZPVUSKKrhsPNayDAzppiNfAe9tvWzhLHv+JS78ByFvZhxq9nnr4VlAkinzTD6sOWO\n",
              "NqCaieio6LQzzBJILHHCQbC5cZhdLQ902IgfBw92wVCRdgkznHDKMJjloWvga4W1u7Ays2xqMQme\n",
              "boakLfTPXkAp6N2J1E/3uC25dDTwdzPrcL3ux/FYMEkPPAnfXFJGxjtM2KVT/Za7euv6DRkQF9lL\n",
              "ZCbOlCnDfYo3vzEqwx7KqUE8GnrEFAQ7tCWsGYhMT2/klIFJb1/LpHwnvpA52MJwCGrbyq9dRi/V\n",
              "z49pkocXfcxSWjw2CtboU9DZrP8qKVBMPE3hLeBpTcepVNV46jl4wz/bYD3KravsOnV1wozpyNN3\n",
              "+GyDa9sNAq0uNkc/9GpgEZJ0Zx5/nRdbugQiGQAGsQYLJFvwj7VL28A4kZA1vdcFtegOPnlKASxD\n",
              "ZA9RxvUv8aqABcgoCeDPaqtomV/hMgipqVmQ8BahnCrpGZgO4ffLQVK/1GkDiD0zDzosdPoShWDM\n",
              "o7BZT3Cwe+adlTGKgQQtg+aXY3BEmf8MIouQMAgAya8fzH7hnXrv9b01VA/c9BMaPtpR0MkEZrHi\n",
              "P+a9/i9BOe4WMW3FUjOMyqDsS+N/qS5D7I0YI8Zqz53iTOvbl1+AIWuFB99zsWstwvpM2kvr+m8q\n",
              "y9+MWMwQRS/wP27LdUG1VJzluGnqoHWyZOTq4M3ehPt+thu1pIedaTfY+C1diEqg2symDqRNeC+v\n",
              "wdJwmM3Jf/fMyb2hyqxxBYQjAC8hAAAEV0GbC0nhDyZTAiv/AAADAtn0mMVaobPVi0mKfnDheZER\n",
              "4BMEl0lv8pzaAEkxpjPgHRaX1uNeswKHwEB07TKLXJlXIo7XM1pgKi2HlBXrgI/9OWoJTXX8S9tS\n",
              "YYCLm5EbtrHeS8OYSKy+n5pSM0qTQ5MRgaiTNgJEQDZxjxVVuDZNnxx+4GL11rH/PQNJI0LwoquT\n",
              "IqhDg59z1I6gwJ9jFpfjGBbUlLsI+WWOt9UVlSa9CCI1GjnFUzNq/V1TOVaB3psONZUCq/xIlFeI\n",
              "PMfsBp3CUNksjIm0S7ikVyM/JEj5M//grm964yILmIx32tXRs7jcADVrQh0AuNhFFM83df5gpjdy\n",
              "zDang7W5DII9TR0o34TI/AZjqqPtA2yrfCSJdnrPmwNBirQZFH2+nnJq2+pmLrNtCpzJyapoiPl2\n",
              "DzrsNwfyLAqyT4alTiys/X5Sh0RQdcHy1NjZJ76YqzDHnvUwnuMm9t2zByYiMzs0INcPX+zhju3o\n",
              "R6UL2ClAJr9vxxXLeWtlvo9n89q6rto0m2ooYQjXVXCZOcsZtLQ8Rd3CWQhUV2NVu/rNQh75KtIS\n",
              "B/k0w3wReFRndPCTFwCSmLj1tp4iUX7LJw7oqEsSkIIRf/yuIfhFXs+rNNxlZUOreRA1gYVXI4Pt\n",
              "BA3o+K1HfFECNzuDDS8TL4RyDBnGSGJArR1KSq+Kc0iZXkxIOVDtXGmW7Ic5YBuJF+2UA5IBKJ17\n",
              "9gA5ARBhFbMuDOGtV19wA3N82mu4/sHH5LSG2k0RBKz3vDxWrtl6aHgCw7b7ktgAt0U3WAQkPWSq\n",
              "4FbzNoGSEaeAGYxGm17sIknzzrVo5AEkOCNJQw2ZA/IoFW5Gn3juIhuIVqG86A7lD4t/nC/yH8Lg\n",
              "nbzkeH1edqEkTOrtIiqZMka/nDmqR2hNarFvFYf4mFfX6S9+HX9hZSRkz9661f211vxl3uCkHZt+\n",
              "qoDIDPeMwHz2tDVteZSkjkUPUbLE0sPQPb1MyVjsyRLr0UXpLeuuxEkCuKe1MXpM9noA+LPEnzbQ\n",
              "hOTyyV7Dif/zD6SFzMqEwZaBlBU0H/13gLLAc6d/XeiQYMa3C4cBmv/jN/WnfEmmeIUN4jixW5xq\n",
              "j616tP7Ms3nDIUP88uwH3r4v2WZmhn8QGxDOggKnIf5OtFoDk9iLyOBdr61/udU7xXiAH5iW3tUe\n",
              "AXiDwoDIqJH6hZZxexbzqmY+JCqGuGB0k+9lptT4/EVVrV6BMFTXgEpvVQxhn4bq57/kJsK6BpVB\n",
              "BFVWSYafRkjmpmdz1DA9d5ZmK3bDdCZ5PgGZZioCUv6Y2PuPCXj6O63fsM7Gval0x2rqxb40BvMl\n",
              "OB5Lo7PE4k+Hpium4BhBkZuIOjYkMONiY8dcGC4J4kDdjCQfTXawwgTgFg5QRq4MHd8bc7twnPHI\n",
              "rMCS9GwDFrT/UBGbWiuefNuMpfSWV678NRUlq4nmpPfXOZzbLJjbcoTMwAhFnpa4eiLA64AAAAmr\n",
              "QZssSeEPJlMCO/8AFVrWoj35GDTY5NF7vfkNx303ZHWDfZNcApUxGIfexQPym3Q9aFINP0PYf46+\n",
              "Y2Fx1MFQeLKcA6IBRI7HytuWMN8FJc37gVs2jQfWCM3IQgnGFiInTQEWztNKt0kbNa+kkMfADl8t\n",
              "iE8WFTiGMBJ9mhOMWK9vqAfkbm6nb3YQba4uKlBfgNjmM59qp2diwt8oA5YZAqgAZWB0g8T6o6zU\n",
              "CW03a+mwtW4akvYY3dBVRLpLX0HxfDHM9SO03EsmCNqWrevhsco4Qa1MSZ9pnU78It26l7Ew6FYD\n",
              "0H4RTjxCuWSV87RmRt0CIJsdnnGzx/JFhMR9FgNOwl9HkiKJlo+BZzyuBQnB3J5jWGiAO4H7yzNG\n",
              "A6MgLmy020kzTVmevN5O7HCJ2YMSxHA/sfiaYMGn6nnF8+40xEhr76m9Qpj6yxxjQ4Vpj/8yR1Yi\n",
              "m5pgR5jxhcYpkCziJ7SyTXEoYcK6A2T4PbWYCfGqvmHstQqikZ2tVaBpoq5+Rvqg0Ep7or1JhHFH\n",
              "cic3QPWk+wPwqca9HmIBz3H9k/ZoICizG3Cf1+NGD0NtKgtg78lcrQv5A3VTSjlXEhcPLIUHt91Q\n",
              "gEvw0vltm0wY4L36ZLlXyX18wINbrhe/FdtMgXAvrhxJAys/RsLXG/fBFkM+PI1JZa4jK+AI+YBc\n",
              "qPCdeOZNMvYSdBCAchQsbaLyUAFUV7hKdMmS1XCT7V8sFxUuju9z2NfrOBCvnB6I9kRpQN9A43lM\n",
              "FH2PxQUhQ2+A+ZI8Vpk6fUcI9Mdy3uyrKdY3NMYlkN9EQ+8jhBJ8aOh4SIUwD6qk0vEmlFaAkmni\n",
              "gsjF3OhkhsOmL+oOm5I9dsalQGHRol5TH7UlmgE7EHDik/e77hgCTiCopPDB1NQAgzulxHQMAzEz\n",
              "4Dhr326BGoA+ctMB2l98tTB1/xMWRbDQpWKlJbb0YXLv/Dqd4bu1FoA0P03MJK4cCj7UZZucwrhh\n",
              "Q+UgoD7ASyIPg9ayOvOkVGH4bOGv/l+KuaRDesJiJtPfX0TSVvHAzmD+0zKLvW3nrZS6pI3fy5kz\n",
              "/Ly11LUzjlWeVoiFrEyJJkCyyTX4hE+8hqpLiVEzcZXnu0KgnHQpmRfSpCWi/TfA5WPA0iXOPDCo\n",
              "yGRXN7d7qR8r9njbUTUoyurr8LB8eJ+9PHUUDvN+XKo5cUSEFluNNcDhwx7xhpLanMjEKOtFbFW5\n",
              "CI3+I/egpp3rAKa6Hvi05MTMf43LoTe0hEqvBQpZ1vGzN5VC6Sv28dO/6Xcvov8hXZpHL4N5+de6\n",
              "WS8Cxfm47JCebuP9nz+G3/cerSR/uSfLHXPo+ZA9yEioQDmDWFAbuhAOxI67Zu1LlmfOipDK+wkt\n",
              "dbZ44hMHQMYRFo38V8OAk1xssPn9QuZuOWp6D5e2AmCa2lPjIVXTcQB/3BveE+PJ7LNJCqb18txt\n",
              "nG0C+ctxqQ8mMVzMx5QmA0FHl8ayGN6srom/+RFCkA5UXyKVlPmAKou3DmwjqFh8uDjnEqwZCk6+\n",
              "gn8K5nc4Jn+R5CD1LqZ3QXlxmkrzK24bDauDNv5JJQHnher9SyLmk4bG8dcXFaqh4Jh0HJY6oxMv\n",
              "fVN5CrCpBbUG+9fdiaRy0ICCA0bPCWiP7zvlQAZtT8/R1wZTwOx20XacaJ1fplUd8Uwzl/3cNyuH\n",
              "qI7175g8HvA//baiuICM+7uijdDWclGxUhdfpg+wC/X0FowWSy0o++am9vRc9jg4MY3VcHyh1m/A\n",
              "bERF+m/64Z/nrvERtg5J7i5+fqRWHXiEXsnxh3y5n5s8rtCDmuYy3M7Iy+0ku+bvcvtOwFstVS1B\n",
              "0QfDlqXMZNVargtu92IFGiCXqOs5zJ+iIfjmB3TgqgPGMHoTlkOkPi63fI+N0s2pZY/QIO8vXUMK\n",
              "cKFY23BnWK1u+y8+zyRHTIvAR0F3CPnLflXv9nZBM/oDLUphvpU0u1dOIUEvR6ch4lJ6Wdv93HRX\n",
              "xNTYsuNwvH86nwB3P1X0k//JFGm3kL/2BRzz1ISeNyCWN2FdhMmR1BTUWGvFtydgwn6aIs1LcaBI\n",
              "UGPFqkQGjjcbPwsCrKc3MoBffMGO0UxNnXhwIrOBDR5D4ArDDHz+jkMKX5hSTTG1HOFvjIk1EzOU\n",
              "D71m0D6tDGHFSwX3eL13eRaeaH5/3Vt/Wf+Wqskok5R3+uX2Fr6UyVu+SmQrNMCRmHv4Nkk+dQOK\n",
              "F71s3Fb2nMfjIjfqLZ6ZHpvadW8TK0zKiIVlPF6myiqIKijtJcbD+efpLs8fgwFGU+yEcaD5hjj/\n",
              "BKgGrWtFqWf6Kqq8Dt+puUtxpuV7NIxXe1/LAGglG2/Q5uLD/2lU6pgkRbFAisyPtwJOGB0AR7d3\n",
              "ew4CqZXAI9ZNWF9oal8lO7gjPBcj2RFU+78AYAqxMYkYNM+Nq4tNyPmBTKuN75YGh7rTPxRIElLs\n",
              "htyGQJs126sOPH7Ba99vtrMb20CoVdNiL0lnlJgK0huVW9PC8GlDgp215KLPLTiQ3gdC2zxYQC1z\n",
              "u5S8SKhjROBo9I/FchDfHybzIZHfaa5+sZsNp891vmW96R+1aCSlv/ACRgMqTjQyUqoAt/3DHc+6\n",
              "p2Y+P661BebrhCTNGsIrrWz+Xk3Qaht0MfKad92YdlA0tojPJ4kEl3knIqbj0pMDWmVGMsCKjEzQ\n",
              "DwrrzPTerzwuXi9ah0v93rfOTl+SYPkUYprODbfMJhfhqQWUwHxB0gAB/AXYT5n1KxM+Rl88Si1K\n",
              "yN1iL1u70K0E90MtKUgvg3e3inK+T79LzG9h0rctx5HHrpLlvMyUlp6QffKvBTbz+w2Yec4ygB5A\n",
              "pnWgiPK/OBFSGklSMnEu2m9jEMW99U7M0RH0zj/Q/oVf6Uy79rreLBm+R6ecwo549/5r+ANB7fDR\n",
              "UJRfzDKm5Z0ngWC3whW8peMZTNQpiNgq17+qUHiUVHFYJACPa45gADaePVsyD/M84CfTDsODqW+W\n",
              "6zzcXjAi7+OsDkHjRE8yS0bJlFJu+AIpIu871SieYzZvv9Rp8ZxefAT0t88VgjSuBWa1Lp6wueWU\n",
              "GohkudQVjIQBujToDZ3a8vpDJ/XNlYtlZU6ke4ckWZCNNTgjs/Xsio3AyDHPYw2U/i+e5nPVEIND\n",
              "OCj7n5JmNH4Kvj326nYUbbLb01i8XPvKAU14mqUMjVqhUf2WlwNGI07a96oF9l/b1v4cFjmSuotD\n",
              "c/gHtVtIAGUz3xSblsS2ZtPDHpfIHRzQ9JGwY3hM9iW7gB4d3aFhTM64wJ7a6xIy6iqpwgmvEdJF\n",
              "Gd7r5/8o8xr5iBj6YaeTiq/eaTkZ7t1AAAADqG1vb3YAAABsbXZoZAAAAAAAAAAAAAAAAAAAA+gA\n",
              "AAeeAAEAAAEAAAAAAAAAAAAAAAABAAAAAAAAAAAAAAAAAAAAAQAAAAAAAAAAAAAAAAAAQAAAAAAA\n",
              "AAAAAAAAAAAAAAAAAAAAAAAAAAAAAAAAAAIAAALSdHJhawAAAFx0a2hkAAAAAwAAAAAAAAAAAAAA\n",
              "AQAAAAAAAAeeAAAAAAAAAAAAAAAAAAAAAAABAAAAAAAAAAAAAAAAAAAAAQAAAAAAAAAAAAAAAAAA\n",
              "QAAAAAH0AAAB9AAAAAAAJGVkdHMAAAAcZWxzdAAAAAAAAAABAAAHngAADAAAAQAAAAACSm1kaWEA\n",
              "AAAgbWRoZAAAAAAAAAAAAAAAAAAAKAAAAE4AVcQAAAAAAC1oZGxyAAAAAAAAAAB2aWRlAAAAAAAA\n",
              "AAAAAAAAVmlkZW9IYW5kbGVyAAAAAfVtaW5mAAAAFHZtaGQAAAABAAAAAAAAAAAAAAAkZGluZgAA\n",
              "ABxkcmVmAAAAAAAAAAEAAAAMdXJsIAAAAAEAAAG1c3RibAAAALlzdHNkAAAAAAAAAAEAAACpYXZj\n",
              "MQAAAAAAAAABAAAAAAAAAAAAAAAAAAAAAAH0AfQASAAAAEgAAAAAAAAAAQAAAAAAAAAAAAAAAAAA\n",
              "AAAAAAAAAAAAAAAAAAAAAAAAABj//wAAADdhdmNDAWQAFv/hABpnZAAWrNlAgBB554QAAAMADAAA\n",
              "AwCgPFi2WAEABmjr48siwP34+AAAAAAcdXVpZGtoQPJfJE/FujmlG88DI/MAAAAAAAAAGHN0dHMA\n",
              "AAAAAAAAAQAAAA0AAAYAAAAAFHN0c3MAAAAAAAAAAQAAAAEAAABQY3R0cwAAAAAAAAAIAAAABAAA\n",
              "DAAAAAABAAASAAAAAAEAAAYAAAAAAQAAEgAAAAABAAAGAAAAAAEAABIAAAAAAQAABgAAAAADAAAM\n",
              "AAAAABxzdHNjAAAAAAAAAAEAAAABAAAADQAAAAEAAABIc3RzegAAAAAAAAAAAAAADQAAGycAAAYQ\n",
              "AAACAQAAAkMAAAS/AAAAZQAAA6QAAAJ+AAACogAAADgAAAQtAAAEWwAACa8AAAAUc3RjbwAAAAAA\n",
              "AAABAAAAMAAAAGJ1ZHRhAAAAWm1ldGEAAAAAAAAAIWhkbHIAAAAAAAAAAG1kaXJhcHBsAAAAAAAA\n",
              "AAAAAAAALWlsc3QAAAAlqXRvbwAAAB1kYXRhAAAAAQAAAABMYXZmNTguNzYuMTAw\n",
              "\">\n",
              "  Your browser does not support the video tag.\n",
              "</video>"
            ],
            "text/plain": [
              "<IPython.core.display.HTML object>"
            ]
          },
          "execution_count": 5,
          "metadata": {},
          "output_type": "execute_result"
        }
      ],
      "source": [
        "import os\n",
        "import numpy as np\n",
        "from typing import Dict, Tuple\n",
        "\n",
        "from IPython.display import HTML\n",
        "import time\n",
        "import jax\n",
        "\n",
        "from envs import make_env\n",
        "from agents.lbf import RandomAgent, SequentialFruitAgent\n",
        "\n",
        "def run_episode(env, agent0, agent1, key) -> Tuple[Dict[str, float], int]:\n",
        "    \"\"\"Run a single episode with two heuristic agents.\n",
        "    \"\"\"\n",
        "    # Reset environment\n",
        "    key, subkey = jax.random.split(key)\n",
        "    obs, state = env.reset(subkey)\n",
        "\n",
        "    # Initialize episode tracking\n",
        "    done = {agent: False for agent in env.agents}\n",
        "    done['__all__'] = False\n",
        "    total_rewards = {agent: 0.0 for agent in env.agents}\n",
        "    num_steps = 0\n",
        "\n",
        "    # Initialize agent states\n",
        "    agent0_state = agent0.init_agent_state(0)\n",
        "    agent1_state = agent1.init_agent_state(1)\n",
        "\n",
        "    # Initialize state sequence\n",
        "    state_seq = []\n",
        "    while not done['__all__']:\n",
        "        # Get actions from both agents with their states\n",
        "        key, act0_rng, act1_rng = jax.random.split(key, 3)\n",
        "\n",
        "        action0, agent0_state = agent0.get_action(obs[\"agent_0\"], state, agent0_state, act0_rng)\n",
        "        action1, agent1_state = agent1.get_action(obs[\"agent_1\"], state, agent1_state, act1_rng)\n",
        "\n",
        "        actions = {\"agent_0\": action0, \"agent_1\": action1}\n",
        "\n",
        "        # Step environment\n",
        "        key, subkey = jax.random.split(key)\n",
        "        obs, state, rewards, done, info = env.step(subkey, state, actions)\n",
        "        state_seq.append(state)\n",
        "\n",
        "        # Update rewards\n",
        "        for agent in env.agents:\n",
        "            total_rewards[agent] += rewards[agent]\n",
        "\n",
        "        num_steps += 1\n",
        "\n",
        "    print(f\"Episode finished. Total states collected: {len(state_seq)}\")\n",
        "    return total_rewards, num_steps, state_seq\n",
        "\n",
        "def main(num_episodes,\n",
        "         max_steps=100,\n",
        "         visualize=False,\n",
        "         save_video=False):\n",
        "    print(\"Initializing environment...\")\n",
        "    env = make_env(env_name=\"lbf\", env_kwargs={\"time_limit\": max_steps})\n",
        "\n",
        "    print(\"Initializing agents...\")\n",
        "    # choices: lexicographic, reverse_lexicographic, column_major, reverse_column_major, nearest_agent, farthest_agent\n",
        "    agent0 = SequentialFruitAgent(grid_size=7, num_fruits=3, ordering_strategy='lexicographic') # boxed\n",
        "    agent1 = SequentialFruitAgent(grid_size=7, num_fruits=3, ordering_strategy='lexicographic') # not boxed\n",
        "\n",
        "    print(\"Agent 0:\", agent0.get_name())\n",
        "    print(\"Agent 1:\", agent1.get_name())\n",
        "\n",
        "    # Run multiple episodes\n",
        "    key = jax.random.PRNGKey(0)\n",
        "\n",
        "    returns = []\n",
        "    state_seq_all = []\n",
        "    for episode in range(num_episodes):\n",
        "        print(f\"\\nEpisode {episode + 1}/{num_episodes}\")\n",
        "        key, subkey = jax.random.split(key)\n",
        "        total_rewards, num_steps, ep_states = run_episode(env, agent0, agent1, subkey)\n",
        "        state_seq_all.extend(ep_states)  # Changed from += to extend for better list handling\n",
        "        print(f\"Total states in sequence after episode: {len(state_seq_all)}\")\n",
        "\n",
        "        # Calculate episode return\n",
        "        episode_return = np.mean(list(total_rewards.values()))\n",
        "        returns.append(episode_return)\n",
        "\n",
        "        print(f\"\\nEpisode {episode + 1} finished:\")\n",
        "        print(f\"Total steps: {num_steps}\")\n",
        "        print(f\"Mean episode return: {episode_return:.2f}\")\n",
        "        print(\"Episode returns per agent:\")\n",
        "        for agent in env.agents:\n",
        "            print(f\" {agent}: {total_rewards[agent]:.2f}\")\n",
        "\n",
        "    # Print statistics\n",
        "    mean_return = np.mean(returns)\n",
        "    std_return = np.std(returns)\n",
        "    print(f\"\\nStatistics across {num_episodes} episodes:\")\n",
        "    print(f\"Mean return: {mean_return:.2f} ± {std_return:.2f}\")\n",
        "\n",
        "    anim = env.animate(state_seq_all, interval=150)\n",
        "    return anim\n",
        "\n",
        "anim = main(num_episodes=5, max_steps=30)\n",
        "HTML(anim.to_html5_video())"
      ]
    }
  ],
  "metadata": {
    "accelerator": "GPU",
    "colab": {
      "gpuType": "T4",
      "include_colab_link": true,
      "provenance": [],
      "toc_visible": true
    },
    "kernelspec": {
      "display_name": "Python 3",
      "name": "python3"
    },
    "language_info": {
      "name": "python"
    }
  },
  "nbformat": 4,
  "nbformat_minor": 0
}
